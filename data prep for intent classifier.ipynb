{
 "cells": [
  {
   "cell_type": "code",
   "execution_count": 10,
   "metadata": {},
   "outputs": [],
   "source": [
    "import json\n",
    "import csv\n",
    "with open(\"data.json\",encoding='latin1') as read_file:\n",
    "        data = json.load(read_file)\n",
    "        \n",
    "a=data['items']\n",
    "des=[]\n",
    "title=[]\n",
    "con=[]"
   ]
  },
  {
   "cell_type": "code",
   "execution_count": 13,
   "metadata": {},
   "outputs": [],
   "source": [
    "for d in a:\n",
    "    title.append((d['title']))\n",
    "    \n",
    "ques=[]\n",
    "sol=[]\n",
    "code=[]\n",
    "text=open(\"title.txt\",\"w\")\n",
    "for tx in title:\n",
    "        text.write(tx+\"\\n\")"
   ]
  },
  {
   "cell_type": "code",
   "execution_count": 14,
   "metadata": {},
   "outputs": [],
   "source": [
    "for t in title:\n",
    "    ques.append(\"What is \"+ t + \" ?\")\n",
    "    ques.append(\"What does \"+ t + \" mean ?\")\n",
    "    ques.append(\"Tell me something about \"+ t + \" ?\")\n",
    "    ques.append(t)\n",
    "    ques.append(\"Explain \" + t +\" ?\")\n",
    "    ques.append(\"Elaborate \" + t +\" ?\")\n",
    "    ques.append(\"Can you tell me about \" + t + \" ?\")\n",
    "    ques.append(\"What do you know about \" + t + \" ?\")\n",
    "    ques.append(\"What can you tell me about \" + t + \" ?\")\n",
    "    ques.append(\"I want to know about XSS \" + t )\n",
    "    ques.append(\"Do you have information about \" + t + \" ?\")\n",
    "    sol.append(\"How to solve \"+ t + \" ?\")\n",
    "    sol.append(\"How to resolve \"+ t + \" ?\")\n",
    "    sol.append(\"How to mitigate \"+ t + \" ?\")\n",
    "    sol.append(\"Solution for \"+ t)\n",
    "    sol.append(\"Provide me some Solution for \"+ t)\n",
    "    sol.append(\"mitigation for \"+ t)\n",
    "    sol.append(\"How to stop \"+ t + \" ?\")\n",
    "    sol.append(\"How to defend \"+ t + \" ?\")\n",
    "    sol.append(\"How to get secured against \"+ t + \" ?\")\n",
    "    sol.append(\"Solution, \"+t)\n",
    "    code.append(\"Give me some sample code of \"+ t )\n",
    "    code.append(\"Code example of \"+ t + \" ?\")\n",
    "    code.append(\"Code of \"+ t )\n",
    "    "
   ]
  },
  {
   "cell_type": "code",
   "execution_count": 15,
   "metadata": {},
   "outputs": [],
   "source": [
    "file=open(\"intent_data.csv\",\"x\")\n",
    "file.write('class, question\\n')\n",
    "for x in ques:\n",
    "    x=x.replace(\",\",\"\")\n",
    "    file.write('Description, '+x+\"\\n\")\t \n",
    "for y in sol:\n",
    "    y=y.replace(\",\",\"\")\n",
    "    file.write('Solution, '+y+\"\\n\")\n",
    "\n",
    "for z in code:\n",
    "    z=z.replace(\",\",\"\")\n",
    "    file.write('Code, '+z+\"\\n\")\n",
    "\n",
    "file.close()"
   ]
  },
  {
   "cell_type": "code",
   "execution_count": null,
   "metadata": {},
   "outputs": [],
   "source": []
  }
 ],
 "metadata": {
  "kernelspec": {
   "display_name": "Python 3",
   "language": "python",
   "name": "python3"
  },
  "language_info": {
   "codemirror_mode": {
    "name": "ipython",
    "version": 3
   },
   "file_extension": ".py",
   "mimetype": "text/x-python",
   "name": "python",
   "nbconvert_exporter": "python",
   "pygments_lexer": "ipython3",
   "version": "3.5.6"
  }
 },
 "nbformat": 4,
 "nbformat_minor": 2
}
