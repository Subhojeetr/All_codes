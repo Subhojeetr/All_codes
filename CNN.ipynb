{
 "cells": [
  {
   "cell_type": "code",
   "execution_count": 44,
   "metadata": {},
   "outputs": [],
   "source": [
    "from keras import backend as K\n",
    "from keras.models import Sequential\n",
    "from keras.layers import Dense, Conv2D, MaxPooling2D, Dropout, Flatten\n",
    "from keras.layers.core import Activation\n",
    "from keras.layers.core import Flatten\n",
    "from keras.layers.core import Dense\n",
    "import matplotlib.pyplot as plt"
   ]
  },
  {
   "cell_type": "code",
   "execution_count": 36,
   "metadata": {},
   "outputs": [],
   "source": [
    "from keras import backend as K\n",
    "# network and training\n",
    "NB_EPOCH = 20\n",
    "BATCH_SIZE = 128\n",
    "VERBOSE = 1\n",
    "OPTIMIZER = Adam()\n",
    "VALIDATION_SPLIT=0.2\n",
    "IMG_ROWS, IMG_COLS = 28, 28 # input image dimensions\n",
    "NB_CLASSES = 10 # number of outputs = number of digits\n",
    "INPUT_SHAPE = (1, IMG_ROWS, IMG_COLS)"
   ]
  },
  {
   "cell_type": "code",
   "execution_count": 37,
   "metadata": {},
   "outputs": [],
   "source": [
    "# data: shuffled and split between train and test sets\n",
    " ( X_train, y_train), (X_test, y_test) = mnist.load_data()"
   ]
  },
  {
   "cell_type": "code",
   "execution_count": 38,
   "metadata": {},
   "outputs": [
    {
     "name": "stdout",
     "output_type": "stream",
     "text": [
      "(60000, 28, 28) train samples\n",
      "(10000, 28, 28) test samples\n",
      "(60000, 1, 28, 28) train samples\n",
      "(10000, 1, 28, 28) test samples\n"
     ]
    }
   ],
   "source": [
    "# consider them as float and normalize\n",
    "K.set_image_dim_ordering(\"th\")\n",
    "print(X_train.shape, 'train samples')\n",
    "print(X_test.shape, 'test samples')\n",
    "X_train = X_train.astype('float32')\n",
    "X_test = X_test.astype('float32')\n",
    "X_train /= 255\n",
    "X_test /= 255\n",
    "# we need a 60K x [1 x 28 x 28] shape as input to the CONVNET\n",
    "X_train = X_train[:, np.newaxis, :, :]\n",
    "X_test = X_test[:, np.newaxis, :, :]\n",
    "print(X_train.shape, 'train samples')\n",
    "print(X_test.shape, 'test samples')\n",
    "# convert class vectors to binary class\n",
    "# convert class vectors to binary class matrices\n",
    "y_train = np_utils.to_categorical(y_train, NB_CLASSES)\n",
    "y_test = np_utils.to_categorical(y_test, NB_CLASSES)"
   ]
  },
  {
   "cell_type": "code",
   "execution_count": 39,
   "metadata": {},
   "outputs": [
    {
     "name": "stdout",
     "output_type": "stream",
     "text": [
      "_________________________________________________________________\n",
      "Layer (type)                 Output Shape              Param #   \n",
      "=================================================================\n",
      "conv2d_22 (Conv2D)           (None, 20, 24, 24)        520       \n",
      "_________________________________________________________________\n",
      "activation_11 (Activation)   (None, 20, 24, 24)        0         \n",
      "_________________________________________________________________\n",
      "max_pooling2d_16 (MaxPooling (None, 20, 12, 12)        0         \n",
      "_________________________________________________________________\n",
      "conv2d_23 (Conv2D)           (None, 50, 12, 12)        25050     \n",
      "_________________________________________________________________\n",
      "activation_12 (Activation)   (None, 50, 12, 12)        0         \n",
      "_________________________________________________________________\n",
      "max_pooling2d_17 (MaxPooling (None, 50, 6, 6)          0         \n",
      "_________________________________________________________________\n",
      "flatten_3 (Flatten)          (None, 1800)              0         \n",
      "_________________________________________________________________\n",
      "dense_2 (Dense)              (None, 10)                18010     \n",
      "_________________________________________________________________\n",
      "activation_13 (Activation)   (None, 10)                0         \n",
      "=================================================================\n",
      "Total params: 43,580\n",
      "Trainable params: 43,580\n",
      "Non-trainable params: 0\n",
      "_________________________________________________________________\n"
     ]
    }
   ],
   "source": [
    "classes=NB_CLASSES #no. of otpts\n",
    "model=Sequential()\n",
    "#keras.layers.convolutional.Conv2D(filters, kernel_size, padding='valid')\n",
    "model.add(Conv2D(20, (5, 5), input_shape=INPUT_SHAPE, padding='valid'))\n",
    "model.add(Activation(\"relu\"))\n",
    "model.add(MaxPooling2D(pool_size=(2,2) ,strides=(2, 2) ))\n",
    "\n",
    "model.add(Conv2D(50,kernel_size=5,padding=\"same\"))\n",
    "model.add(Activation(\"relu\"))\n",
    "model.add(MaxPooling2D(pool_size=(2,2),strides=(2,2)))\n",
    "model.add(Flatten())\n",
    "model.add(Dense(classes))\n",
    "model.add(Activation(\"softmax\"))\n",
    "model.summary()    "
   ]
  },
  {
   "cell_type": "code",
   "execution_count": 40,
   "metadata": {},
   "outputs": [
    {
     "name": "stdout",
     "output_type": "stream",
     "text": [
      "Train on 48000 samples, validate on 12000 samples\n",
      "Epoch 1/20\n",
      "48000/48000 [==============================] - 248s 5ms/step - loss: 0.2780 - acc: 0.9185 - val_loss: 0.0929 - val_acc: 0.9721\n",
      "Epoch 2/20\n",
      "48000/48000 [==============================] - 257s 5ms/step - loss: 0.0749 - acc: 0.9771 - val_loss: 0.0683 - val_acc: 0.9786\n",
      "Epoch 3/20\n",
      "48000/48000 [==============================] - 248s 5ms/step - loss: 0.0529 - acc: 0.9840 - val_loss: 0.0524 - val_acc: 0.9836\n",
      "Epoch 4/20\n",
      "48000/48000 [==============================] - 231s 5ms/step - loss: 0.0430 - acc: 0.9870 - val_loss: 0.0477 - val_acc: 0.9862\n",
      "Epoch 5/20\n",
      "48000/48000 [==============================] - 230s 5ms/step - loss: 0.0351 - acc: 0.9893 - val_loss: 0.0396 - val_acc: 0.9882\n",
      "Epoch 6/20\n",
      "48000/48000 [==============================] - 235s 5ms/step - loss: 0.0294 - acc: 0.9908 - val_loss: 0.0394 - val_acc: 0.9880\n",
      "Epoch 7/20\n",
      "48000/48000 [==============================] - 242s 5ms/step - loss: 0.0260 - acc: 0.9914 - val_loss: 0.0382 - val_acc: 0.9887\n",
      "Epoch 8/20\n",
      "48000/48000 [==============================] - 253s 5ms/step - loss: 0.0215 - acc: 0.9933 - val_loss: 0.0380 - val_acc: 0.9882\n",
      "Epoch 9/20\n",
      "48000/48000 [==============================] - 242s 5ms/step - loss: 0.0183 - acc: 0.9945 - val_loss: 0.0399 - val_acc: 0.9874\n",
      "Epoch 10/20\n",
      "48000/48000 [==============================] - 239s 5ms/step - loss: 0.0161 - acc: 0.9951 - val_loss: 0.0411 - val_acc: 0.9872\n",
      "Epoch 11/20\n",
      "48000/48000 [==============================] - 237s 5ms/step - loss: 0.0134 - acc: 0.9958 - val_loss: 0.0368 - val_acc: 0.9897\n",
      "Epoch 12/20\n",
      "48000/48000 [==============================] - 242s 5ms/step - loss: 0.0116 - acc: 0.9964 - val_loss: 0.0374 - val_acc: 0.9891\n",
      "Epoch 13/20\n",
      "48000/48000 [==============================] - 254s 5ms/step - loss: 0.0105 - acc: 0.9963 - val_loss: 0.0382 - val_acc: 0.9899\n",
      "Epoch 14/20\n",
      "48000/48000 [==============================] - 250s 5ms/step - loss: 0.0101 - acc: 0.9964 - val_loss: 0.0511 - val_acc: 0.9863\n",
      "Epoch 15/20\n",
      "48000/48000 [==============================] - 249s 5ms/step - loss: 0.0080 - acc: 0.9973 - val_loss: 0.0354 - val_acc: 0.9903\n",
      "Epoch 16/20\n",
      "48000/48000 [==============================] - 233s 5ms/step - loss: 0.0058 - acc: 0.9982 - val_loss: 0.0408 - val_acc: 0.9891\n",
      "Epoch 17/20\n",
      "48000/48000 [==============================] - 238s 5ms/step - loss: 0.0061 - acc: 0.9981 - val_loss: 0.0416 - val_acc: 0.9886\n",
      "Epoch 18/20\n",
      "48000/48000 [==============================] - 236s 5ms/step - loss: 0.0043 - acc: 0.9986 - val_loss: 0.0456 - val_acc: 0.9881\n",
      "Epoch 19/20\n",
      "48000/48000 [==============================] - 246s 5ms/step - loss: 0.0054 - acc: 0.9984 - val_loss: 0.0501 - val_acc: 0.9884\n",
      "Epoch 20/20\n",
      "48000/48000 [==============================] - 253s 5ms/step - loss: 0.0061 - acc: 0.9978 - val_loss: 0.0463 - val_acc: 0.9900\n",
      "10000/10000 [==============================] - 27s 3ms/step\n",
      "Test score: 0.037585341034011614\n",
      "Test accuracy: 0.99\n"
     ]
    }
   ],
   "source": [
    "model.compile(loss=\"categorical_crossentropy\", optimizer=OPTIMIZER,metrics=[\"accuracy\"])\n",
    "history = model.fit(X_train, y_train,batch_size=BATCH_SIZE, epochs=NB_EPOCH,verbose=VERBOSE,\\\n",
    "                    validation_split=VALIDATION_SPLIT)\n",
    "score = model.evaluate(X_test, y_test, verbose=VERBOSE)\n",
    "print(\"Test score:\", score[0])\n",
    "print('Test accuracy:', score[1])"
   ]
  },
  {
   "cell_type": "code",
   "execution_count": 45,
   "metadata": {},
   "outputs": [
    {
     "name": "stdout",
     "output_type": "stream",
     "text": [
      "dict_keys(['val_loss', 'val_acc', 'loss', 'acc'])\n"
     ]
    },
    {
     "data": {
      "image/png": "[encoded data removed]",
      "text/plain": [
       "<Figure size 432x288 with 1 Axes>"
      ]
     },
     "metadata": {
      "needs_background": "light"
     },
     "output_type": "display_data"
    },
    {
     "data": {
      "image/png": "[encoded data removed]",
      "text/plain": [
       "<Figure size 432x288 with 1 Axes>"
      ]
     },
     "metadata": {
      "needs_background": "light"
     },
     "output_type": "display_data"
    }
   ],
   "source": [
    "# list all data in history\n",
    "print(history.history.keys())\n",
    "# summarize history for accuracy\n",
    "plt.plot(history.history['acc'])\n",
    "plt.plot(history.history['val_acc'])\n",
    "plt.title('model accuracy')\n",
    "plt.ylabel('accuracy')\n",
    "plt.xlabel('epoch')\n",
    "plt.legend(['train', 'test'], loc='upper left')\n",
    "plt.show()\n",
    "# summarize history for loss\n",
    "plt.plot(history.history['loss'])\n",
    "plt.plot(history.history['val_loss'])\n",
    "plt.title('model loss')\n",
    "plt.ylabel('loss')\n",
    "plt.xlabel('epoch')\n",
    "plt.legend(['train', 'test'], loc='upper left')\n",
    "plt.show()"
   ]
  },
  {
   "cell_type": "code",
   "execution_count": 46,
   "metadata": {},
   "outputs": [],
   "source": [
    "from keras.datasets import cifar10\n",
    "from keras.utils import np_utils\n",
    "from keras.models import Sequential\n",
    "from keras.layers.core import Dense, Dropout, Activation, Flatten\n",
    "from keras.layers.convolutional import Conv2D, MaxPooling2D\n",
    "from keras.optimizers import SGD, Adam, RMSprop\n",
    "import matplotlib.pyplot as plt"
   ]
  },
  {
   "cell_type": "code",
   "execution_count": 47,
   "metadata": {},
   "outputs": [],
   "source": [
    "# CIFAR_10 is a set of 60K images 32x32 pixels on 3 channels\n",
    "IMG_CHANNELS = 3\n",
    "IMG_ROWS = 32\n",
    "IMG_COLS = 32\n",
    "#constant\n",
    "BATCH_SIZE = 128\n",
    "NB_EPOCH = 20\n",
    "NB_CLASSES = 10\n",
    "VERBOSE = 1\n",
    "VALIDATION_SPLIT = 0.2\n",
    "OPTIM = RMSprop()"
   ]
  },
  {
   "cell_type": "code",
   "execution_count": 48,
   "metadata": {},
   "outputs": [
    {
     "name": "stdout",
     "output_type": "stream",
     "text": [
      "Downloading data from https://www.cs.toronto.edu/~kriz/cifar-10-python.tar.gz\n",
      "170500096/170498071 [==============================] - 2644s 16us/step\n"
     ]
    }
   ],
   "source": [
    "#load dataset\n",
    "(X_train, y_train), (X_test, y_test) = cifar10.load_data()"
   ]
  },
  {
   "cell_type": "code",
   "execution_count": 50,
   "metadata": {},
   "outputs": [
    {
     "name": "stdout",
     "output_type": "stream",
     "text": [
      "X_train shape: (50000, 3, 32, 32)\n",
      "50000 train samples\n",
      "10000 test samples\n"
     ]
    }
   ],
   "source": [
    "print('X_train shape:', X_train.shape)\n",
    "print(X_train.shape[0], 'train samples')\n",
    "print(X_test.shape[0], 'test samples')"
   ]
  },
  {
   "cell_type": "code",
   "execution_count": null,
   "metadata": {},
   "outputs": [],
   "source": []
  }
 ],
 "metadata": {
  "kernelspec": {
   "display_name": "Python 3",
   "language": "python",
   "name": "python3"
  },
  "language_info": {
   "codemirror_mode": {
    "name": "ipython",
    "version": 3
   },
   "file_extension": ".py",
   "mimetype": "text/x-python",
   "name": "python",
   "nbconvert_exporter": "python",
   "pygments_lexer": "ipython3",
   "version": "3.5.6"
  }
 },
 "nbformat": 4,
 "nbformat_minor": 2
}
