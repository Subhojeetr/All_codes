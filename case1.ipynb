{
 "cells": [
  {
   "cell_type": "code",
   "execution_count": 26,
   "metadata": {},
   "outputs": [],
   "source": [
    "import findspark\n",
    "findspark.init()"
   ]
  },
  {
   "cell_type": "code",
   "execution_count": 27,
   "metadata": {},
   "outputs": [],
   "source": [
    "import pyspark"
   ]
  },
  {
   "cell_type": "code",
   "execution_count": 28,
   "metadata": {},
   "outputs": [],
   "source": [
    "from pyspark.sql import SparkSession"
   ]
  },
  {
   "cell_type": "code",
   "execution_count": 29,
   "metadata": {},
   "outputs": [],
   "source": [
    "spark = SparkSession.builder.appName(\"Case1\").getOrCreate()"
   ]
  },
  {
   "cell_type": "code",
   "execution_count": 30,
   "metadata": {},
   "outputs": [],
   "source": [
    "sc = spark.sparkContext"
   ]
  },
  {
   "cell_type": "code",
   "execution_count": 31,
   "metadata": {},
   "outputs": [],
   "source": [
    "nums = sc.parallelize([1,2,3,4])"
   ]
  },
  {
   "cell_type": "code",
   "execution_count": 32,
   "metadata": {},
   "outputs": [],
   "source": [
    "nums.map(lambda x: x*x).foreach(print)"
   ]
  },
  {
   "cell_type": "code",
   "execution_count": 33,
   "metadata": {},
   "outputs": [
    {
     "name": "stderr",
     "output_type": "stream",
     "text": [
      "java version \"1.8.0_231\"\n",
      "Java(TM) SE Runtime Environment (build 1.8.0_231-b11)\n",
      "Java HotSpot(TM) 64-Bit Server VM (build 25.231-b11, mixed mode)\n"
     ]
    }
   ],
   "source": [
    "!java -version"
   ]
  },
  {
   "cell_type": "code",
   "execution_count": 34,
   "metadata": {},
   "outputs": [
    {
     "data": {
      "text/html": [
       "\n",
       "        <div>\n",
       "            <p><b>SparkContext</b></p>\n",
       "\n",
       "            <p><a href=\"http://RIA:4040\">Spark UI</a></p>\n",
       "\n",
       "            <dl>\n",
       "              <dt>Version</dt>\n",
       "                <dd><code>v2.3.2</code></dd>\n",
       "              <dt>Master</dt>\n",
       "                <dd><code>local[*]</code></dd>\n",
       "              <dt>AppName</dt>\n",
       "                <dd><code>Case1</code></dd>\n",
       "            </dl>\n",
       "        </div>\n",
       "        "
      ],
      "text/plain": [
       "<SparkContext master=local[*] appName=Case1>"
      ]
     },
     "execution_count": 34,
     "metadata": {},
     "output_type": "execute_result"
    }
   ],
   "source": [
    "sc"
   ]
  },
  {
   "cell_type": "markdown",
   "metadata": {},
   "source": [
    "# Create a csv file Employee_Database.csv\n",
    "### columns = Employee_id, Skills, Joining_Date, Num_of_project, Next_Gen_eligibility, eligible_promotion, Careel Level\n",
    "\n",
    "#### Num of employees=10000\n",
    "#### Employee Id should be unique and it should consists of 8 digit\n",
    "#### Joining Date should be within 1-1-2005 to 31-12-2020 (format 23Jan2015)\n",
    "#### Skills should be python, pyspark, aws, scala, java, sql, hive\n",
    "#### Assign Num_of_project between 1 to 10\n",
    "#### As of Now, Keep Next_Gen_Eligibilty and eligible_promotion as no\n",
    "#### Assign CareerLevel as L1, L2, L3, L4"
   ]
  },
  {
   "cell_type": "code",
   "execution_count": 10,
   "metadata": {},
   "outputs": [],
   "source": [
    "Employee_id = []\n",
    "import math\n",
    "num_of_emp=10000\n",
    "start = int(math.pow(10,7))"
   ]
  },
  {
   "cell_type": "code",
   "execution_count": 11,
   "metadata": {},
   "outputs": [],
   "source": [
    "for i in range(1,num_of_emp+1):\n",
    "    Employee_id.append(start + i)"
   ]
  },
  {
   "cell_type": "code",
   "execution_count": 12,
   "metadata": {},
   "outputs": [
    {
     "data": {
      "text/plain": [
       "10000"
      ]
     },
     "execution_count": 12,
     "metadata": {},
     "output_type": "execute_result"
    }
   ],
   "source": [
    "len(Employee_id)"
   ]
  },
  {
   "cell_type": "code",
   "execution_count": null,
   "metadata": {},
   "outputs": [],
   "source": []
  },
  {
   "cell_type": "code",
   "execution_count": 13,
   "metadata": {},
   "outputs": [],
   "source": [
    "Skill = ['python', 'pyspark', 'aws', 'scala', 'java', 'sql', 'hive']\n",
    "import random"
   ]
  },
  {
   "cell_type": "code",
   "execution_count": 14,
   "metadata": {},
   "outputs": [],
   "source": [
    "Emp_skill = []\n",
    "NumOfProject = []\n",
    "for _ in range(num_of_emp):\n",
    "    Emp_skill.append(random.choice(Skill))\n",
    "    NumOfProject.append(random.randint(1, 10))"
   ]
  },
  {
   "cell_type": "code",
   "execution_count": 15,
   "metadata": {},
   "outputs": [
    {
     "data": {
      "text/plain": [
       "10000"
      ]
     },
     "execution_count": 15,
     "metadata": {},
     "output_type": "execute_result"
    }
   ],
   "source": [
    "len(Emp_skill)"
   ]
  },
  {
   "cell_type": "code",
   "execution_count": 16,
   "metadata": {},
   "outputs": [
    {
     "data": {
      "text/plain": [
       "10000"
      ]
     },
     "execution_count": 16,
     "metadata": {},
     "output_type": "execute_result"
    }
   ],
   "source": [
    "len(NumOfProject)"
   ]
  },
  {
   "cell_type": "code",
   "execution_count": 17,
   "metadata": {},
   "outputs": [
    {
     "data": {
      "text/plain": [
       "5843"
      ]
     },
     "execution_count": 17,
     "metadata": {},
     "output_type": "execute_result"
    }
   ],
   "source": [
    "import datetime\n",
    "start_dt=datetime.datetime(2005,1,1)\n",
    "end_dt=datetime.datetime(2020,12,31)\n",
    "date_diff=end_dt-start_dt\n",
    "date_diff.days"
   ]
  },
  {
   "cell_type": "code",
   "execution_count": 18,
   "metadata": {},
   "outputs": [],
   "source": [
    "Joining_dt = []\n",
    "for _ in range(num_of_emp):\n",
    "    req_dt = start_dt + datetime.timedelta(days=random.choice(range(date_diff.days)))\n",
    "    Joining_dt.append(req_dt.strftime('%d%b%Y'))"
   ]
  },
  {
   "cell_type": "code",
   "execution_count": 19,
   "metadata": {},
   "outputs": [
    {
     "data": {
      "text/plain": [
       "['26Jun2005',\n",
       " '03Feb2007',\n",
       " '28Mar2013',\n",
       " '26Jun2006',\n",
       " '03Jan2020',\n",
       " '13Feb2020',\n",
       " '04Jul2007',\n",
       " '21Dec2019',\n",
       " '04Mar2016',\n",
       " '10Mar2017',\n",
       " '18Jun2011',\n",
       " '01Dec2005',\n",
       " '02Apr2018',\n",
       " '29Sep2020',\n",
       " '09Oct2006',\n",
       " '09Feb2015',\n",
       " '29Apr2010',\n",
       " '11Feb2014',\n",
       " '29Apr2006',\n",
       " '07Dec2009',\n",
       " '21Dec2014',\n",
       " '15Dec2012',\n",
       " '13Mar2013',\n",
       " '09Feb2011',\n",
       " '22May2016',\n",
       " '03Aug2015',\n",
       " '20Feb2019',\n",
       " '09Jan2020',\n",
       " '30Aug2011',\n",
       " '21Mar2019',\n",
       " '19Jun2011',\n",
       " '23Apr2013',\n",
       " '29Jul2009',\n",
       " '03May2006',\n",
       " '29May2009',\n",
       " '02Jun2013',\n",
       " '09Nov2008',\n",
       " '23Nov2005',\n",
       " '20Nov2016',\n",
       " '04Apr2017',\n",
       " '17Jul2007',\n",
       " '24Jan2018',\n",
       " '12Sep2009',\n",
       " '11May2005',\n",
       " '15Sep2016',\n",
       " '22Feb2013',\n",
       " '10Mar2013',\n",
       " '09Aug2014',\n",
       " '01Oct2011',\n",
       " '02Apr2007',\n",
       " '17Feb2012',\n",
       " '15Oct2008',\n",
       " '28Feb2009',\n",
       " '08Sep2015',\n",
       " '25Jan2010',\n",
       " '02Jul2013',\n",
       " '15Feb2017',\n",
       " '13Aug2005',\n",
       " '19Jan2010',\n",
       " '21Jul2017',\n",
       " '08Nov2020',\n",
       " '23Jan2017',\n",
       " '04Aug2008',\n",
       " '29Jun2016',\n",
       " '26Aug2015',\n",
       " '06Jul2009',\n",
       " '15Jun2006',\n",
       " '14Aug2015',\n",
       " '13Aug2008',\n",
       " '19May2017',\n",
       " '27Jan2005',\n",
       " '09May2010',\n",
       " '03Feb2015',\n",
       " '24Dec2007',\n",
       " '20Jan2014',\n",
       " '28Oct2020',\n",
       " '17Aug2006',\n",
       " '23Mar2005',\n",
       " '12Jul2018',\n",
       " '30Nov2007',\n",
       " '08Aug2017',\n",
       " '01May2005',\n",
       " '15Mar2009',\n",
       " '25May2017',\n",
       " '27Sep2006',\n",
       " '18Nov2013',\n",
       " '11Mar2005',\n",
       " '04Apr2012',\n",
       " '08Jan2018',\n",
       " '09May2016',\n",
       " '24Apr2007',\n",
       " '18Feb2020',\n",
       " '27Jan2014',\n",
       " '08Aug2017',\n",
       " '27Mar2005',\n",
       " '13Aug2012',\n",
       " '31May2020',\n",
       " '27Sep2015',\n",
       " '20Jun2005',\n",
       " '18Jun2012',\n",
       " '23Dec2013',\n",
       " '04Jul2013',\n",
       " '09Aug2014',\n",
       " '04Jan2009',\n",
       " '16Dec2020',\n",
       " '10Jul2014',\n",
       " '13Dec2006',\n",
       " '29May2010',\n",
       " '29Dec2020',\n",
       " '25Oct2006',\n",
       " '22Aug2015',\n",
       " '15Jan2006',\n",
       " '01Jul2019',\n",
       " '13Nov2011',\n",
       " '24Sep2016',\n",
       " '06Nov2013',\n",
       " '28Jun2015',\n",
       " '15Mar2010',\n",
       " '25Oct2008',\n",
       " '31Jul2008',\n",
       " '06Apr2019',\n",
       " '30Jan2013',\n",
       " '04Jun2019',\n",
       " '02Oct2019',\n",
       " '30Nov2010',\n",
       " '28Sep2008',\n",
       " '15Feb2009',\n",
       " '24Nov2012',\n",
       " '03May2020',\n",
       " '20Sep2010',\n",
       " '21May2009',\n",
       " '24Jun2018',\n",
       " '20Mar2007',\n",
       " '17Jan2012',\n",
       " '04Apr2010',\n",
       " '31Jan2012',\n",
       " '23Aug2018',\n",
       " '18Oct2008',\n",
       " '06Sep2012',\n",
       " '27May2011',\n",
       " '05Mar2013',\n",
       " '10Feb2018',\n",
       " '30Jan2019',\n",
       " '13Apr2011',\n",
       " '25Jul2008',\n",
       " '23Aug2011',\n",
       " '18Jun2018',\n",
       " '20Mar2009',\n",
       " '03Dec2007',\n",
       " '27Mar2016',\n",
       " '13Mar2015',\n",
       " '22Jun2010',\n",
       " '28Apr2012',\n",
       " '09Jul2016',\n",
       " '05Nov2020',\n",
       " '21May2012',\n",
       " '13Jan2006',\n",
       " '27Jan2012',\n",
       " '06Nov2008',\n",
       " '06Aug2013',\n",
       " '04Jun2011',\n",
       " '25Apr2013',\n",
       " '15Sep2012',\n",
       " '25Oct2005',\n",
       " '25Nov2019',\n",
       " '01May2017',\n",
       " '22Aug2005',\n",
       " '01Nov2005',\n",
       " '03May2005',\n",
       " '07Sep2015',\n",
       " '29Apr2013',\n",
       " '28Mar2016',\n",
       " '06Jul2005',\n",
       " '14Jul2020',\n",
       " '11Nov2005',\n",
       " '14Jul2014',\n",
       " '22Dec2016',\n",
       " '22Apr2017',\n",
       " '22Sep2020',\n",
       " '01Apr2011',\n",
       " '29Oct2008',\n",
       " '15Oct2018',\n",
       " '21Aug2006',\n",
       " '29Mar2016',\n",
       " '15Sep2009',\n",
       " '13Jul2017',\n",
       " '08Mar2016',\n",
       " '22Feb2014',\n",
       " '10Jan2007',\n",
       " '28Jun2014',\n",
       " '27Jun2006',\n",
       " '06Aug2009',\n",
       " '19Nov2020',\n",
       " '27Dec2015',\n",
       " '25Apr2008',\n",
       " '10Feb2009',\n",
       " '01Aug2017',\n",
       " '11Aug2018',\n",
       " '26Aug2006',\n",
       " '06Sep2019',\n",
       " '15Aug2011',\n",
       " '23Feb2011',\n",
       " '10Feb2011',\n",
       " '26Feb2015',\n",
       " '17Apr2014',\n",
       " '15Jun2005',\n",
       " '23Jul2012',\n",
       " '26Sep2015',\n",
       " '31Oct2010',\n",
       " '14Jan2020',\n",
       " '17Oct2013',\n",
       " '17Dec2009',\n",
       " '29Jul2017',\n",
       " '20Aug2015',\n",
       " '09Apr2017',\n",
       " '18Jan2020',\n",
       " '25Apr2005',\n",
       " '12Sep2013',\n",
       " '08Sep2008',\n",
       " '30Aug2020',\n",
       " '02Jul2011',\n",
       " '05Feb2008',\n",
       " '23Aug2005',\n",
       " '21Apr2016',\n",
       " '23May2005',\n",
       " '23Dec2020',\n",
       " '17Jun2010',\n",
       " '06Jan2016',\n",
       " '22Aug2015',\n",
       " '20May2012',\n",
       " '15Feb2008',\n",
       " '22Mar2013',\n",
       " '28Jan2013',\n",
       " '14Sep2018',\n",
       " '21Sep2018',\n",
       " '16Oct2006',\n",
       " '02Apr2007',\n",
       " '25Jan2016',\n",
       " '14Oct2018',\n",
       " '15Jul2020',\n",
       " '09Jul2017',\n",
       " '19Jun2016',\n",
       " '01Apr2011',\n",
       " '04Sep2019',\n",
       " '25Nov2009',\n",
       " '15Mar2008',\n",
       " '04Mar2005',\n",
       " '28Dec2018',\n",
       " '18Dec2013',\n",
       " '02Oct2017',\n",
       " '15Mar2013',\n",
       " '16Jul2020',\n",
       " '06Apr2018',\n",
       " '11Nov2005',\n",
       " '09Sep2012',\n",
       " '05May2014',\n",
       " '31Oct2017',\n",
       " '25Nov2012',\n",
       " '02Jul2012',\n",
       " '21Jan2018',\n",
       " '11Jun2014',\n",
       " '09Feb2012',\n",
       " '05Jul2013',\n",
       " '24Jun2013',\n",
       " '05Apr2005',\n",
       " '07Jun2015',\n",
       " '08Apr2019',\n",
       " '18May2012',\n",
       " '16Mar2020',\n",
       " '15Jun2007',\n",
       " '16Sep2005',\n",
       " '17Oct2018',\n",
       " '05Jan2008',\n",
       " '03Aug2006',\n",
       " '30Mar2017',\n",
       " '25Dec2020',\n",
       " '25Sep2017',\n",
       " '21Jan2005',\n",
       " '25Jul2008',\n",
       " '14Feb2005',\n",
       " '31Aug2020',\n",
       " '10Jan2014',\n",
       " '31Jul2008',\n",
       " '19Nov2005',\n",
       " '27Oct2017',\n",
       " '22Apr2011',\n",
       " '06Sep2009',\n",
       " '30Nov2008',\n",
       " '16Oct2020',\n",
       " '27Jun2013',\n",
       " '25Feb2014',\n",
       " '07Aug2015',\n",
       " '03Feb2011',\n",
       " '06Nov2010',\n",
       " '05Sep2011',\n",
       " '14Jan2017',\n",
       " '08Nov2019',\n",
       " '20Apr2009',\n",
       " '30Mar2011',\n",
       " '25Feb2013',\n",
       " '18Jul2017',\n",
       " '18Oct2012',\n",
       " '21Jul2008',\n",
       " '25Jul2017',\n",
       " '13May2006',\n",
       " '29Jan2011',\n",
       " '20Oct2009',\n",
       " '16Aug2015',\n",
       " '08May2017',\n",
       " '13Apr2013',\n",
       " '06Aug2020',\n",
       " '18Aug2017',\n",
       " '08Jan2017',\n",
       " '09Nov2020',\n",
       " '09Aug2012',\n",
       " '13Oct2009',\n",
       " '25Dec2007',\n",
       " '13Dec2010',\n",
       " '17Feb2010',\n",
       " '25Oct2005',\n",
       " '14Feb2020',\n",
       " '11Sep2015',\n",
       " '16Apr2018',\n",
       " '19Oct2014',\n",
       " '11May2011',\n",
       " '01Jan2020',\n",
       " '10Jul2013',\n",
       " '11Feb2012',\n",
       " '25Feb2019',\n",
       " '10Jun2019',\n",
       " '22Jan2018',\n",
       " '04Mar2006',\n",
       " '29Jan2015',\n",
       " '23Oct2012',\n",
       " '07Aug2008',\n",
       " '13Jun2017',\n",
       " '13Feb2008',\n",
       " '13Feb2009',\n",
       " '18Jun2007',\n",
       " '18Sep2009',\n",
       " '22Oct2012',\n",
       " '04Dec2008',\n",
       " '10Aug2007',\n",
       " '27Feb2010',\n",
       " '30Jul2007',\n",
       " '28May2005',\n",
       " '15Oct2012',\n",
       " '13Jan2009',\n",
       " '31Aug2007',\n",
       " '11Jan2018',\n",
       " '02Apr2011',\n",
       " '17Jan2005',\n",
       " '26Dec2010',\n",
       " '08Dec2009',\n",
       " '18Sep2013',\n",
       " '05May2011',\n",
       " '25Sep2009',\n",
       " '28Nov2015',\n",
       " '30Jun2008',\n",
       " '02Feb2020',\n",
       " '18Mar2009',\n",
       " '07May2018',\n",
       " '17Jan2012',\n",
       " '05Aug2013',\n",
       " '20Nov2015',\n",
       " '27Jun2009',\n",
       " '03Mar2012',\n",
       " '05Sep2013',\n",
       " '24Jul2009',\n",
       " '28Apr2006',\n",
       " '19Sep2016',\n",
       " '09Dec2018',\n",
       " '13Dec2007',\n",
       " '15Apr2020',\n",
       " '07Jun2016',\n",
       " '27Mar2008',\n",
       " '12Mar2011',\n",
       " '28Sep2009',\n",
       " '24Jul2010',\n",
       " '21Jul2011',\n",
       " '22Sep2007',\n",
       " '26Feb2011',\n",
       " '30Jan2008',\n",
       " '12Sep2009',\n",
       " '07Aug2019',\n",
       " '10Jun2013',\n",
       " '14Mar2008',\n",
       " '23Aug2018',\n",
       " '26Mar2016',\n",
       " '29Jun2013',\n",
       " '13Dec2018',\n",
       " '07Feb2006',\n",
       " '04Jul2012',\n",
       " '25Oct2015',\n",
       " '09Mar2007',\n",
       " '23Dec2010',\n",
       " '26Jun2008',\n",
       " '27Jan2006',\n",
       " '27Mar2012',\n",
       " '27Mar2019',\n",
       " '15Mar2016',\n",
       " '12Oct2017',\n",
       " '13Jul2014',\n",
       " '27Jun2009',\n",
       " '06May2008',\n",
       " '22Jun2007',\n",
       " '17Jul2008',\n",
       " '11Jul2005',\n",
       " '21Mar2012',\n",
       " '19Feb2015',\n",
       " '05Dec2011',\n",
       " '13Jul2005',\n",
       " '09Feb2016',\n",
       " '13Jan2017',\n",
       " '05Mar2008',\n",
       " '29Oct2017',\n",
       " '04Feb2011',\n",
       " '18Dec2018',\n",
       " '15Jun2010',\n",
       " '30Jul2010',\n",
       " '02Dec2020',\n",
       " '30Dec2020',\n",
       " '12Sep2017',\n",
       " '04Oct2006',\n",
       " '19Jun2018',\n",
       " '10Nov2009',\n",
       " '07Jan2018',\n",
       " '23Sep2010',\n",
       " '01Mar2013',\n",
       " '09Apr2011',\n",
       " '05Nov2014',\n",
       " '17May2019',\n",
       " '02May2017',\n",
       " '25Nov2010',\n",
       " '03Dec2017',\n",
       " '23Oct2016',\n",
       " '06Mar2020',\n",
       " '13Aug2013',\n",
       " '08Aug2015',\n",
       " '19Jun2012',\n",
       " '24Jun2016',\n",
       " '17Oct2017',\n",
       " '23Feb2008',\n",
       " '18Dec2020',\n",
       " '21Mar2018',\n",
       " '28Sep2016',\n",
       " '19Dec2009',\n",
       " '17Mar2009',\n",
       " '18Jul2009',\n",
       " '19Jul2010',\n",
       " '27Jan2013',\n",
       " '17Oct2011',\n",
       " '12Jan2016',\n",
       " '02Apr2012',\n",
       " '14Mar2019',\n",
       " '26Oct2008',\n",
       " '25Sep2009',\n",
       " '09Jan2019',\n",
       " '18Jan2009',\n",
       " '06Aug2007',\n",
       " '19May2014',\n",
       " '17Nov2020',\n",
       " '17Dec2015',\n",
       " '08Apr2015',\n",
       " '11Jan2005',\n",
       " '25Dec2019',\n",
       " '18Jun2018',\n",
       " '12Jul2020',\n",
       " '15Mar2006',\n",
       " '18May2013',\n",
       " '15Jun2008',\n",
       " '30Jun2010',\n",
       " '05Jun2007',\n",
       " '18Jul2008',\n",
       " '26Jan2014',\n",
       " '02May2010',\n",
       " '02Jan2019',\n",
       " '25Nov2012',\n",
       " '21Feb2018',\n",
       " '12Mar2016',\n",
       " '15Aug2010',\n",
       " '13Jun2019',\n",
       " '13Jul2018',\n",
       " '21Sep2020',\n",
       " '24Jun2019',\n",
       " '06Jun2016',\n",
       " '18May2014',\n",
       " '10Aug2019',\n",
       " '08Apr2011',\n",
       " '22Jun2015',\n",
       " '12Mar2007',\n",
       " '07Jul2007',\n",
       " '26Jan2014',\n",
       " '12Mar2012',\n",
       " '28Aug2020',\n",
       " '14Dec2019',\n",
       " '21Oct2016',\n",
       " '31Dec2017',\n",
       " '10Aug2013',\n",
       " '22Oct2017',\n",
       " '25Jun2020',\n",
       " '29Jul2011',\n",
       " '09Jun2006',\n",
       " '26Aug2018',\n",
       " '21Dec2006',\n",
       " '02Aug2006',\n",
       " '19May2010',\n",
       " '20Feb2017',\n",
       " '06Mar2016',\n",
       " '07Sep2015',\n",
       " '14Apr2019',\n",
       " '04Sep2016',\n",
       " '20Jun2012',\n",
       " '30Apr2013',\n",
       " '18Nov2019',\n",
       " '07Jun2018',\n",
       " '21Oct2018',\n",
       " '14Jun2018',\n",
       " '18Dec2008',\n",
       " '10Jun2019',\n",
       " '10Sep2014',\n",
       " '30Nov2011',\n",
       " '21Jun2019',\n",
       " '12Mar2018',\n",
       " '18Oct2009',\n",
       " '22Dec2010',\n",
       " '28Dec2014',\n",
       " '24Feb2011',\n",
       " '21Feb2016',\n",
       " '20Mar2018',\n",
       " '10Aug2014',\n",
       " '22Jan2016',\n",
       " '01Oct2005',\n",
       " '21Apr2010',\n",
       " '16Aug2020',\n",
       " '21Jan2019',\n",
       " '25Sep2013',\n",
       " '14Apr2020',\n",
       " '03Jul2009',\n",
       " '12May2008',\n",
       " '21Nov2015',\n",
       " '04Dec2017',\n",
       " '05Aug2011',\n",
       " '07Mar2008',\n",
       " '01Jun2014',\n",
       " '06Nov2011',\n",
       " '18Dec2013',\n",
       " '06Jun2016',\n",
       " '20Apr2007',\n",
       " '05May2005',\n",
       " '23Jun2005',\n",
       " '23Jan2005',\n",
       " '29Jan2007',\n",
       " '20Dec2014',\n",
       " '20Oct2013',\n",
       " '28May2015',\n",
       " '22Dec2019',\n",
       " '12Mar2009',\n",
       " '25Nov2009',\n",
       " '26Nov2010',\n",
       " '13Sep2016',\n",
       " '18Mar2010',\n",
       " '30Jul2005',\n",
       " '02Sep2018',\n",
       " '05Jun2016',\n",
       " '19Jun2011',\n",
       " '09Aug2019',\n",
       " '16Mar2009',\n",
       " '24Sep2007',\n",
       " '10Apr2005',\n",
       " '07Jan2016',\n",
       " '06May2011',\n",
       " '24Jan2013',\n",
       " '26Jan2015',\n",
       " '04Jun2006',\n",
       " '14Oct2017',\n",
       " '17Mar2018',\n",
       " '02Jun2019',\n",
       " '04Jun2015',\n",
       " '19Oct2005',\n",
       " '02Sep2005',\n",
       " '08Oct2012',\n",
       " '17Aug2017',\n",
       " '14Sep2006',\n",
       " '16Apr2007',\n",
       " '31Dec2017',\n",
       " '11Jun2019',\n",
       " '31Aug2013',\n",
       " '10Nov2006',\n",
       " '01May2009',\n",
       " '04Dec2009',\n",
       " '12May2014',\n",
       " '28Sep2007',\n",
       " '12Jul2019',\n",
       " '01Mar2006',\n",
       " '19Nov2013',\n",
       " '18Mar2006',\n",
       " '06Oct2008',\n",
       " '25Aug2015',\n",
       " '29Aug2014',\n",
       " '05Dec2016',\n",
       " '21Jun2016',\n",
       " '04Mar2015',\n",
       " '20Aug2015',\n",
       " '31Jan2020',\n",
       " '22Dec2005',\n",
       " '30Oct2005',\n",
       " '10Sep2010',\n",
       " '25Oct2015',\n",
       " '23Apr2013',\n",
       " '01Jan2008',\n",
       " '09Nov2008',\n",
       " '10Jan2011',\n",
       " '30May2009',\n",
       " '13Oct2010',\n",
       " '28Jan2019',\n",
       " '23May2010',\n",
       " '05Jul2018',\n",
       " '08Apr2016',\n",
       " '17Jul2008',\n",
       " '10Feb2013',\n",
       " '13Mar2015',\n",
       " '19Jan2007',\n",
       " '13May2009',\n",
       " '28Mar2011',\n",
       " '11Oct2013',\n",
       " '25Nov2016',\n",
       " '02Jan2018',\n",
       " '18Sep2015',\n",
       " '16Jun2010',\n",
       " '23Mar2006',\n",
       " '29May2020',\n",
       " '09Dec2015',\n",
       " '25Feb2018',\n",
       " '02Mar2009',\n",
       " '16Feb2019',\n",
       " '26Feb2008',\n",
       " '30Sep2018',\n",
       " '22Apr2006',\n",
       " '26Sep2012',\n",
       " '26Jul2005',\n",
       " '09Jan2019',\n",
       " '19Nov2007',\n",
       " '26Jun2009',\n",
       " '18Jul2018',\n",
       " '29Jun2011',\n",
       " '06Mar2012',\n",
       " '29Nov2007',\n",
       " '14Dec2019',\n",
       " '01Jun2015',\n",
       " '06Jan2020',\n",
       " '09Feb2018',\n",
       " '27Jun2020',\n",
       " '04Feb2011',\n",
       " '22Aug2008',\n",
       " '26May2018',\n",
       " '05Aug2014',\n",
       " '12Sep2013',\n",
       " '19Dec2012',\n",
       " '03Mar2010',\n",
       " '26Jul2007',\n",
       " '23Sep2006',\n",
       " '30Apr2012',\n",
       " '13Oct2005',\n",
       " '01Dec2005',\n",
       " '26Mar2005',\n",
       " '08Sep2008',\n",
       " '08Nov2011',\n",
       " '21Feb2005',\n",
       " '07Jun2009',\n",
       " '17Dec2019',\n",
       " '20Oct2009',\n",
       " '05Oct2007',\n",
       " '04Apr2008',\n",
       " '16May2008',\n",
       " '19Jul2014',\n",
       " '12Nov2012',\n",
       " '25Nov2005',\n",
       " '03May2011',\n",
       " '04Sep2015',\n",
       " '27Oct2020',\n",
       " '22Aug2008',\n",
       " '18Apr2014',\n",
       " '11Nov2017',\n",
       " '02Jul2015',\n",
       " '15Jan2008',\n",
       " '19Jun2010',\n",
       " '24Jan2007',\n",
       " '22Aug2016',\n",
       " '12Mar2007',\n",
       " '09May2019',\n",
       " '26Apr2020',\n",
       " '22Dec2012',\n",
       " '25Feb2007',\n",
       " '19Jul2005',\n",
       " '01Apr2010',\n",
       " '08Mar2008',\n",
       " '10Dec2020',\n",
       " '12Feb2011',\n",
       " '28Sep2020',\n",
       " '21Oct2010',\n",
       " '11Feb2016',\n",
       " '26Sep2016',\n",
       " '13Nov2009',\n",
       " '21Dec2020',\n",
       " '11Nov2009',\n",
       " '23Jul2016',\n",
       " '05Aug2016',\n",
       " '24Aug2017',\n",
       " '05Mar2019',\n",
       " '07Aug2014',\n",
       " '30Sep2017',\n",
       " '27Jan2018',\n",
       " '18Oct2009',\n",
       " '17Nov2012',\n",
       " '16Feb2014',\n",
       " '23Dec2020',\n",
       " '11Apr2016',\n",
       " '13Jun2017',\n",
       " '14Jan2012',\n",
       " '01Nov2007',\n",
       " '24Oct2014',\n",
       " '08Dec2010',\n",
       " '07Sep2019',\n",
       " '28Aug2015',\n",
       " '09Jan2016',\n",
       " '31Jan2012',\n",
       " '22Feb2009',\n",
       " '17Aug2019',\n",
       " '17Dec2005',\n",
       " '14Sep2016',\n",
       " '28Jan2013',\n",
       " '02Feb2020',\n",
       " '10May2019',\n",
       " '18Jul2011',\n",
       " '31Jan2010',\n",
       " '15Nov2017',\n",
       " '26Aug2016',\n",
       " '05Jun2009',\n",
       " '29May2006',\n",
       " '15Jun2017',\n",
       " '07Oct2007',\n",
       " '16Mar2020',\n",
       " '01Nov2012',\n",
       " '26Jul2008',\n",
       " '04Nov2009',\n",
       " '23Feb2014',\n",
       " '29Jan2016',\n",
       " '14Mar2013',\n",
       " '28Jul2007',\n",
       " '23Sep2012',\n",
       " '18Jun2018',\n",
       " '12Aug2018',\n",
       " '07Aug2015',\n",
       " '03Oct2014',\n",
       " '14Aug2009',\n",
       " '29Jul2007',\n",
       " '06Dec2011',\n",
       " '28Feb2011',\n",
       " '06Sep2018',\n",
       " '16Nov2020',\n",
       " '19Nov2012',\n",
       " '01Sep2009',\n",
       " '05Jun2008',\n",
       " '13Jun2015',\n",
       " '13Dec2008',\n",
       " '29Jul2005',\n",
       " '06Jun2015',\n",
       " '31Dec2017',\n",
       " '24Jul2008',\n",
       " '26Jul2006',\n",
       " '17Oct2006',\n",
       " '15Jun2008',\n",
       " '14Oct2011',\n",
       " '19Nov2015',\n",
       " '02Jul2005',\n",
       " '12Aug2014',\n",
       " '13May2014',\n",
       " '31Mar2017',\n",
       " '03Feb2011',\n",
       " '05Apr2008',\n",
       " '19Feb2008',\n",
       " '23Aug2018',\n",
       " '14Nov2005',\n",
       " '15Oct2014',\n",
       " '20Nov2007',\n",
       " '29Jul2015',\n",
       " '27Jun2016',\n",
       " '22Jan2014',\n",
       " '15Jul2009',\n",
       " '13Oct2014',\n",
       " '26Jul2009',\n",
       " '11Jun2012',\n",
       " '25Apr2005',\n",
       " '17Mar2013',\n",
       " '18Apr2013',\n",
       " '05Nov2019',\n",
       " '21Nov2009',\n",
       " '24Apr2020',\n",
       " '11Jun2013',\n",
       " '05Feb2015',\n",
       " '29Jun2007',\n",
       " '19Aug2006',\n",
       " '20Mar2009',\n",
       " '04Jan2015',\n",
       " '09Jul2009',\n",
       " '20Jun2008',\n",
       " '03Apr2010',\n",
       " '13Mar2009',\n",
       " '11Apr2014',\n",
       " '02Jun2007',\n",
       " '29Jun2012',\n",
       " '20Aug2007',\n",
       " '19Sep2012',\n",
       " '12May2007',\n",
       " '14Apr2007',\n",
       " '13Apr2020',\n",
       " '22Dec2014',\n",
       " '18Sep2019',\n",
       " '09Oct2016',\n",
       " '06Oct2018',\n",
       " '28Nov2014',\n",
       " '25Jan2016',\n",
       " '15Sep2018',\n",
       " '15Jul2019',\n",
       " '15Dec2013',\n",
       " '17Oct2020',\n",
       " '16Nov2015',\n",
       " '31Jan2012',\n",
       " '10Jun2007',\n",
       " '16Oct2020',\n",
       " '03Oct2008',\n",
       " '19Jan2007',\n",
       " '20Dec2020',\n",
       " '11Oct2005',\n",
       " '25Jun2015',\n",
       " '05Apr2012',\n",
       " '01Apr2006',\n",
       " '06Jun2018',\n",
       " '30Aug2014',\n",
       " '18Oct2006',\n",
       " '09Mar2018',\n",
       " '19Jan2016',\n",
       " '20Apr2006',\n",
       " '02Feb2005',\n",
       " '15May2008',\n",
       " '26Nov2018',\n",
       " '23Jul2009',\n",
       " '16Oct2009',\n",
       " '22Sep2013',\n",
       " '30Nov2008',\n",
       " '25Feb2016',\n",
       " '27Nov2016',\n",
       " '09Aug2020',\n",
       " '01Jan2005',\n",
       " '25Sep2010',\n",
       " '14Aug2005',\n",
       " '15Jun2014',\n",
       " '26Feb2015',\n",
       " '31Mar2006',\n",
       " '21Mar2012',\n",
       " '17Dec2015',\n",
       " '30Jul2013',\n",
       " '24Sep2014',\n",
       " '29Dec2006',\n",
       " '09Aug2014',\n",
       " '23Oct2013',\n",
       " '13Nov2019',\n",
       " '25Jan2016',\n",
       " '06Jan2006',\n",
       " '04Oct2014',\n",
       " '12Dec2007',\n",
       " '08Jan2019',\n",
       " '07Aug2018',\n",
       " '29Sep2009',\n",
       " '02Nov2013',\n",
       " '14Nov2011',\n",
       " '21May2016',\n",
       " '18Jun2018',\n",
       " '25Mar2005',\n",
       " '11Jan2006',\n",
       " '13Apr2009',\n",
       " '13Sep2010',\n",
       " '13Aug2008',\n",
       " '06Apr2015',\n",
       " '24Aug2018',\n",
       " '10May2007',\n",
       " '01Dec2020',\n",
       " '29Jun2018',\n",
       " '13Jul2009',\n",
       " '13Aug2016',\n",
       " '08Jul2007',\n",
       " '11Nov2005',\n",
       " '21Jun2008',\n",
       " '04Jun2012',\n",
       " '07Nov2017',\n",
       " '08Mar2013',\n",
       " '24Jul2007',\n",
       " '15Mar2014',\n",
       " '01Nov2020',\n",
       " '19Dec2014',\n",
       " '23Jul2013',\n",
       " '10Jul2008',\n",
       " '16Aug2017',\n",
       " '22Sep2011',\n",
       " '10Jun2015',\n",
       " '06Jun2007',\n",
       " '05May2019',\n",
       " '07Aug2007',\n",
       " '28Jul2020',\n",
       " '29Jul2009',\n",
       " '12Apr2010',\n",
       " '22May2006',\n",
       " '16Apr2010',\n",
       " '17Oct2013',\n",
       " '04Mar2011',\n",
       " '17Jul2009',\n",
       " '05Sep2020',\n",
       " '04Apr2014',\n",
       " '28Nov2016',\n",
       " '10Nov2009',\n",
       " '24Jul2010',\n",
       " '09Nov2014',\n",
       " '07Jan2008',\n",
       " '09Oct2018',\n",
       " '04Mar2014',\n",
       " '29Jan2019',\n",
       " '02Apr2016',\n",
       " '23Nov2016',\n",
       " '10Aug2011',\n",
       " '17Nov2007',\n",
       " '14Jan2020',\n",
       " '24Apr2008',\n",
       " '23Sep2016',\n",
       " '23Sep2019',\n",
       " '21Aug2020',\n",
       " '27Apr2012',\n",
       " '29May2017',\n",
       " '20Apr2013',\n",
       " '01Nov2006',\n",
       " '05Mar2019',\n",
       " '04Aug2014',\n",
       " '28Jun2009',\n",
       " '14Apr2009',\n",
       " '09Sep2018',\n",
       " '08Apr2020',\n",
       " '18Dec2008',\n",
       " '17Oct2011',\n",
       " '02Feb2015',\n",
       " '30Jul2013',\n",
       " '11Dec2007',\n",
       " '07Nov2012',\n",
       " '25Jun2020',\n",
       " '10Jan2006',\n",
       " '19Nov2011',\n",
       " '25Sep2018',\n",
       " '29Dec2016',\n",
       " '29Oct2017',\n",
       " '21Nov2017',\n",
       " '26Dec2010',\n",
       " '14Mar2011',\n",
       " '15Dec2007',\n",
       " '08Feb2015',\n",
       " '25Jan2017',\n",
       " '12Aug2012',\n",
       " '23Dec2005',\n",
       " '20Nov2016',\n",
       " '17Aug2016',\n",
       " '23May2010',\n",
       " '25Feb2011',\n",
       " '01Jan2018',\n",
       " '19Mar2016',\n",
       " '06Feb2006',\n",
       " '12Jul2016',\n",
       " '24Sep2017',\n",
       " '28Dec2011',\n",
       " '17Dec2017',\n",
       " '09Oct2016',\n",
       " '24Jul2013',\n",
       " '11Nov2012',\n",
       " '30Sep2008',\n",
       " '24Dec2010',\n",
       " '27Oct2019',\n",
       " '25Jun2014',\n",
       " '12Jun2018',\n",
       " '30Apr2018',\n",
       " '30Mar2005',\n",
       " '02Aug2019',\n",
       " '09Feb2009',\n",
       " '22Mar2007',\n",
       " '13May2013',\n",
       " '11Apr2005',\n",
       " '27Oct2009',\n",
       " '13Mar2018',\n",
       " '22May2019',\n",
       " '15Feb2014',\n",
       " '14Feb2007',\n",
       " '23Aug2008',\n",
       " '20Jun2014',\n",
       " '17Jun2014',\n",
       " ...]"
      ]
     },
     "execution_count": 19,
     "metadata": {},
     "output_type": "execute_result"
    }
   ],
   "source": [
    "Joining_dt"
   ]
  },
  {
   "cell_type": "code",
   "execution_count": 20,
   "metadata": {},
   "outputs": [],
   "source": [
    "Next_Gen_Eligibilty = ['no']*num_of_emp\n",
    "Eligible_Promotion = ['no']*num_of_emp"
   ]
  },
  {
   "cell_type": "code",
   "execution_count": 21,
   "metadata": {},
   "outputs": [],
   "source": [
    "CareerLevelList = ['L1', 'L2', 'L3', 'L4']\n",
    "CareerLevel = []\n",
    "for _ in range(num_of_emp):\n",
    "    CareerLevel.append(random.choice(CareerLevelList))"
   ]
  },
  {
   "cell_type": "code",
   "execution_count": null,
   "metadata": {},
   "outputs": [],
   "source": []
  },
  {
   "cell_type": "code",
   "execution_count": 22,
   "metadata": {},
   "outputs": [],
   "source": [
    "data_dict = {'Employee_id' : Employee_id, \n",
    "    'Skills': Emp_skill, \n",
    "    'Joining_Date': Joining_dt, \n",
    "    'Num_of_project': NumOfProject, \n",
    "    'Next_Gen_eligibility': Next_Gen_Eligibilty, \n",
    "    'eligible_promotion': Eligible_Promotion, \n",
    "    'Careel_Level': CareerLevel}"
   ]
  },
  {
   "cell_type": "code",
   "execution_count": 23,
   "metadata": {},
   "outputs": [],
   "source": [
    "import pandas as pd\n",
    "df = pd.DataFrame(data_dict)"
   ]
  },
  {
   "cell_type": "code",
   "execution_count": 24,
   "metadata": {},
   "outputs": [
    {
     "data": {
      "text/html": [
       "<div>\n",
       "<style scoped>\n",
       "    .dataframe tbody tr th:only-of-type {\n",
       "        vertical-align: middle;\n",
       "    }\n",
       "\n",
       "    .dataframe tbody tr th {\n",
       "        vertical-align: top;\n",
       "    }\n",
       "\n",
       "    .dataframe thead th {\n",
       "        text-align: right;\n",
       "    }\n",
       "</style>\n",
       "<table border=\"1\" class=\"dataframe\">\n",
       "  <thead>\n",
       "    <tr style=\"text-align: right;\">\n",
       "      <th></th>\n",
       "      <th>Employee_id</th>\n",
       "      <th>Skills</th>\n",
       "      <th>Joining_Date</th>\n",
       "      <th>Num_of_project</th>\n",
       "      <th>Next_Gen_eligibility</th>\n",
       "      <th>eligible_promotion</th>\n",
       "      <th>Careel_Level</th>\n",
       "    </tr>\n",
       "  </thead>\n",
       "  <tbody>\n",
       "    <tr>\n",
       "      <th>0</th>\n",
       "      <td>10000001</td>\n",
       "      <td>aws</td>\n",
       "      <td>26Jun2005</td>\n",
       "      <td>4</td>\n",
       "      <td>no</td>\n",
       "      <td>no</td>\n",
       "      <td>L1</td>\n",
       "    </tr>\n",
       "    <tr>\n",
       "      <th>1</th>\n",
       "      <td>10000002</td>\n",
       "      <td>pyspark</td>\n",
       "      <td>03Feb2007</td>\n",
       "      <td>9</td>\n",
       "      <td>no</td>\n",
       "      <td>no</td>\n",
       "      <td>L4</td>\n",
       "    </tr>\n",
       "    <tr>\n",
       "      <th>2</th>\n",
       "      <td>10000003</td>\n",
       "      <td>python</td>\n",
       "      <td>28Mar2013</td>\n",
       "      <td>6</td>\n",
       "      <td>no</td>\n",
       "      <td>no</td>\n",
       "      <td>L3</td>\n",
       "    </tr>\n",
       "    <tr>\n",
       "      <th>3</th>\n",
       "      <td>10000004</td>\n",
       "      <td>java</td>\n",
       "      <td>26Jun2006</td>\n",
       "      <td>2</td>\n",
       "      <td>no</td>\n",
       "      <td>no</td>\n",
       "      <td>L3</td>\n",
       "    </tr>\n",
       "    <tr>\n",
       "      <th>4</th>\n",
       "      <td>10000005</td>\n",
       "      <td>hive</td>\n",
       "      <td>03Jan2020</td>\n",
       "      <td>1</td>\n",
       "      <td>no</td>\n",
       "      <td>no</td>\n",
       "      <td>L1</td>\n",
       "    </tr>\n",
       "  </tbody>\n",
       "</table>\n",
       "</div>"
      ],
      "text/plain": [
       "   Employee_id   Skills Joining_Date  Num_of_project Next_Gen_eligibility  \\\n",
       "0     10000001      aws    26Jun2005               4                   no   \n",
       "1     10000002  pyspark    03Feb2007               9                   no   \n",
       "2     10000003   python    28Mar2013               6                   no   \n",
       "3     10000004     java    26Jun2006               2                   no   \n",
       "4     10000005     hive    03Jan2020               1                   no   \n",
       "\n",
       "  eligible_promotion Careel_Level  \n",
       "0                 no           L1  \n",
       "1                 no           L4  \n",
       "2                 no           L3  \n",
       "3                 no           L3  \n",
       "4                 no           L1  "
      ]
     },
     "execution_count": 24,
     "metadata": {},
     "output_type": "execute_result"
    }
   ],
   "source": [
    "df.head()"
   ]
  },
  {
   "cell_type": "code",
   "execution_count": 25,
   "metadata": {},
   "outputs": [],
   "source": [
    "df.to_csv(r'C:\\Users\\HP\\Documents\\subho\\EmployeeDatabase.csv', index=False)"
   ]
  },
  {
   "cell_type": "code",
   "execution_count": null,
   "metadata": {},
   "outputs": [],
   "source": []
  },
  {
   "cell_type": "code",
   "execution_count": null,
   "metadata": {},
   "outputs": [],
   "source": []
  },
  {
   "cell_type": "code",
   "execution_count": null,
   "metadata": {},
   "outputs": [],
   "source": []
  },
  {
   "cell_type": "code",
   "execution_count": 35,
   "metadata": {},
   "outputs": [],
   "source": [
    "a=list()"
   ]
  },
  {
   "cell_type": "code",
   "execution_count": 36,
   "metadata": {},
   "outputs": [
    {
     "data": {
      "text/plain": [
       "list"
      ]
     },
     "execution_count": 36,
     "metadata": {},
     "output_type": "execute_result"
    }
   ],
   "source": [
    "type(a)"
   ]
  },
  {
   "cell_type": "code",
   "execution_count": 37,
   "metadata": {},
   "outputs": [],
   "source": [
    "a=[]"
   ]
  },
  {
   "cell_type": "code",
   "execution_count": 39,
   "metadata": {},
   "outputs": [
    {
     "data": {
      "text/plain": [
       "list"
      ]
     },
     "execution_count": 39,
     "metadata": {},
     "output_type": "execute_result"
    }
   ],
   "source": [
    "type(a)"
   ]
  },
  {
   "cell_type": "code",
   "execution_count": 40,
   "metadata": {},
   "outputs": [],
   "source": [
    "a = ['egg','kyc',100, 2*2]"
   ]
  },
  {
   "cell_type": "code",
   "execution_count": 55,
   "metadata": {},
   "outputs": [
    {
     "data": {
      "text/plain": [
       "4"
      ]
     },
     "execution_count": 55,
     "metadata": {},
     "output_type": "execute_result"
    }
   ],
   "source": [
    "len(a)"
   ]
  },
  {
   "cell_type": "code",
   "execution_count": 47,
   "metadata": {},
   "outputs": [
    {
     "data": {
      "text/plain": [
       "'kyc32'"
      ]
     },
     "execution_count": 47,
     "metadata": {},
     "output_type": "execute_result"
    }
   ],
   "source": [
    "a[1]+str(32)"
   ]
  },
  {
   "cell_type": "code",
   "execution_count": 51,
   "metadata": {},
   "outputs": [
    {
     "data": {
      "text/plain": [
       "'hellohello'"
      ]
     },
     "execution_count": 51,
     "metadata": {},
     "output_type": "execute_result"
    }
   ],
   "source": [
    "'hello' * 2"
   ]
  },
  {
   "cell_type": "code",
   "execution_count": 54,
   "metadata": {},
   "outputs": [
    {
     "data": {
      "text/plain": [
       "200"
      ]
     },
     "execution_count": 54,
     "metadata": {},
     "output_type": "execute_result"
    }
   ],
   "source": [
    "a[2] *2"
   ]
  },
  {
   "cell_type": "code",
   "execution_count": 56,
   "metadata": {},
   "outputs": [],
   "source": [
    "b=tuple(a)"
   ]
  },
  {
   "cell_type": "code",
   "execution_count": 57,
   "metadata": {},
   "outputs": [
    {
     "data": {
      "text/plain": [
       "tuple"
      ]
     },
     "execution_count": 57,
     "metadata": {},
     "output_type": "execute_result"
    }
   ],
   "source": [
    "type(b)"
   ]
  },
  {
   "cell_type": "code",
   "execution_count": 58,
   "metadata": {},
   "outputs": [
    {
     "data": {
      "text/plain": [
       "('egg', 'kyc', 100, 4)"
      ]
     },
     "execution_count": 58,
     "metadata": {},
     "output_type": "execute_result"
    }
   ],
   "source": [
    "b"
   ]
  },
  {
   "cell_type": "code",
   "execution_count": 59,
   "metadata": {},
   "outputs": [
    {
     "data": {
      "text/plain": [
       "['egg', 'kyc', 100, 4]"
      ]
     },
     "execution_count": 59,
     "metadata": {},
     "output_type": "execute_result"
    }
   ],
   "source": [
    "a"
   ]
  },
  {
   "cell_type": "code",
   "execution_count": 60,
   "metadata": {},
   "outputs": [],
   "source": [
    "a[1]=34"
   ]
  },
  {
   "cell_type": "code",
   "execution_count": 61,
   "metadata": {},
   "outputs": [
    {
     "data": {
      "text/plain": [
       "['egg', 34, 100, 4]"
      ]
     },
     "execution_count": 61,
     "metadata": {},
     "output_type": "execute_result"
    }
   ],
   "source": [
    "a"
   ]
  },
  {
   "cell_type": "code",
   "execution_count": 63,
   "metadata": {},
   "outputs": [],
   "source": [
    "b=[3,4,5,6]"
   ]
  },
  {
   "cell_type": "code",
   "execution_count": 64,
   "metadata": {},
   "outputs": [
    {
     "data": {
      "text/plain": [
       "['egg', 34, 100, 4, 3, 4, 5, 6]"
      ]
     },
     "execution_count": 64,
     "metadata": {},
     "output_type": "execute_result"
    }
   ],
   "source": [
    "a+b"
   ]
  },
  {
   "cell_type": "code",
   "execution_count": 65,
   "metadata": {},
   "outputs": [],
   "source": [
    "a.append(b)"
   ]
  },
  {
   "cell_type": "code",
   "execution_count": 66,
   "metadata": {},
   "outputs": [
    {
     "data": {
      "text/plain": [
       "['egg', 34, 100, 4, [3, 4, 5, 6]]"
      ]
     },
     "execution_count": 66,
     "metadata": {},
     "output_type": "execute_result"
    }
   ],
   "source": [
    "a"
   ]
  },
  {
   "cell_type": "code",
   "execution_count": 67,
   "metadata": {},
   "outputs": [
    {
     "data": {
      "text/plain": [
       "False"
      ]
     },
     "execution_count": 67,
     "metadata": {},
     "output_type": "execute_result"
    }
   ],
   "source": [
    "type(a)==str"
   ]
  },
  {
   "cell_type": "code",
   "execution_count": 68,
   "metadata": {},
   "outputs": [],
   "source": [
    "a='accenture'"
   ]
  },
  {
   "cell_type": "code",
   "execution_count": 69,
   "metadata": {},
   "outputs": [
    {
     "data": {
      "text/plain": [
       "'c'"
      ]
     },
     "execution_count": 69,
     "metadata": {},
     "output_type": "execute_result"
    }
   ],
   "source": [
    "a[1]"
   ]
  },
  {
   "cell_type": "code",
   "execution_count": 70,
   "metadata": {},
   "outputs": [
    {
     "data": {
      "text/plain": [
       "'e'"
      ]
     },
     "execution_count": 70,
     "metadata": {},
     "output_type": "execute_result"
    }
   ],
   "source": [
    "a[-1]"
   ]
  },
  {
   "cell_type": "code",
   "execution_count": 71,
   "metadata": {},
   "outputs": [
    {
     "data": {
      "text/plain": [
       "'erutnecca'"
      ]
     },
     "execution_count": 71,
     "metadata": {},
     "output_type": "execute_result"
    }
   ],
   "source": [
    "a[::-1]"
   ]
  },
  {
   "cell_type": "code",
   "execution_count": 72,
   "metadata": {},
   "outputs": [
    {
     "data": {
      "text/plain": [
       "'acnue'"
      ]
     },
     "execution_count": 72,
     "metadata": {},
     "output_type": "execute_result"
    }
   ],
   "source": [
    "a[::2]"
   ]
  },
  {
   "cell_type": "code",
   "execution_count": 74,
   "metadata": {},
   "outputs": [
    {
     "ename": "TypeError",
     "evalue": "'str' object does not support item assignment",
     "output_type": "error",
     "traceback": [
      "\u001b[1;31m---------------------------------------------------------------------------\u001b[0m",
      "\u001b[1;31mTypeError\u001b[0m                                 Traceback (most recent call last)",
      "\u001b[1;32m<ipython-input-74-55a6c822c1d9>\u001b[0m in \u001b[0;36m<module>\u001b[1;34m\u001b[0m\n\u001b[1;32m----> 1\u001b[1;33m \u001b[0ma\u001b[0m\u001b[1;33m[\u001b[0m\u001b[1;36m2\u001b[0m\u001b[1;33m]\u001b[0m\u001b[1;33m=\u001b[0m\u001b[1;34m'f'\u001b[0m\u001b[1;33m\u001b[0m\u001b[1;33m\u001b[0m\u001b[0m\n\u001b[0m",
      "\u001b[1;31mTypeError\u001b[0m: 'str' object does not support item assignment"
     ]
    }
   ],
   "source": [
    "a[2]='f'"
   ]
  },
  {
   "cell_type": "code",
   "execution_count": 78,
   "metadata": {},
   "outputs": [
    {
     "name": "stdout",
     "output_type": "stream",
     "text": [
      "enter65\n",
      "5\n"
     ]
    }
   ],
   "source": [
    "x=int(input(\"enter\"))\n",
    "if x==7:\n",
    "    pass\n",
    "else:\n",
    "    print(5)"
   ]
  },
  {
   "cell_type": "code",
   "execution_count": 79,
   "metadata": {},
   "outputs": [],
   "source": [
    "def sumNum(a, b=10):\n",
    "    print(a+b)"
   ]
  },
  {
   "cell_type": "code",
   "execution_count": 81,
   "metadata": {},
   "outputs": [
    {
     "name": "stdout",
     "output_type": "stream",
     "text": [
      "36\n"
     ]
    }
   ],
   "source": [
    "sumNum(2,34)"
   ]
  },
  {
   "cell_type": "code",
   "execution_count": 82,
   "metadata": {},
   "outputs": [],
   "source": [
    "a=lambda (x,y,z):x**2"
   ]
  },
  {
   "cell_type": "code",
   "execution_count": 83,
   "metadata": {},
   "outputs": [
    {
     "data": {
      "text/plain": [
       "4"
      ]
     },
     "execution_count": 83,
     "metadata": {},
     "output_type": "execute_result"
    }
   ],
   "source": [
    "a(2)"
   ]
  },
  {
   "cell_type": "code",
   "execution_count": 85,
   "metadata": {},
   "outputs": [],
   "source": [
    "a=[1,2,3,4]"
   ]
  },
  {
   "cell_type": "code",
   "execution_count": 86,
   "metadata": {},
   "outputs": [
    {
     "data": {
      "text/plain": [
       "[1, 2, 3, 4]"
      ]
     },
     "execution_count": 86,
     "metadata": {},
     "output_type": "execute_result"
    }
   ],
   "source": [
    "a"
   ]
  },
  {
   "cell_type": "code",
   "execution_count": 88,
   "metadata": {},
   "outputs": [
    {
     "data": {
      "text/plain": [
       "False"
      ]
     },
     "execution_count": 88,
     "metadata": {},
     "output_type": "execute_result"
    }
   ],
   "source": [
    "5 in a"
   ]
  },
  {
   "cell_type": "code",
   "execution_count": 89,
   "metadata": {},
   "outputs": [],
   "source": [
    "a =[2,3,4]"
   ]
  },
  {
   "cell_type": "code",
   "execution_count": 93,
   "metadata": {},
   "outputs": [
    {
     "name": "stdout",
     "output_type": "stream",
     "text": [
      "{2: 4}\n",
      "{3: 5}\n",
      "{4: 6}\n"
     ]
    }
   ],
   "source": [
    "for x in ({x:x+2} for x in a):\n",
    "    print(x)"
   ]
  },
  {
   "cell_type": "code",
   "execution_count": null,
   "metadata": {},
   "outputs": [],
   "source": []
  }
 ],
 "metadata": {
  "kernelspec": {
   "display_name": "Python 3",
   "language": "python",
   "name": "python3"
  },
  "language_info": {
   "codemirror_mode": {
    "name": "ipython",
    "version": 3
   },
   "file_extension": ".py",
   "mimetype": "text/x-python",
   "name": "python",
   "nbconvert_exporter": "python",
   "pygments_lexer": "ipython3",
   "version": "3.7.3"
  }
 },
 "nbformat": 4,
 "nbformat_minor": 2
}
