{
 "cells": [
  {
   "cell_type": "code",
   "execution_count": 6,
   "metadata": {},
   "outputs": [],
   "source": [
    "import findspark\n",
    "findspark.init()"
   ]
  },
  {
   "cell_type": "code",
   "execution_count": 7,
   "metadata": {},
   "outputs": [],
   "source": [
    "from pyspark.sql import SparkSession"
   ]
  },
  {
   "cell_type": "code",
   "execution_count": 8,
   "metadata": {},
   "outputs": [],
   "source": [
    "spark = SparkSession.builder.appName(\"Case3\").getOrCreate()"
   ]
  },
  {
   "cell_type": "code",
   "execution_count": 9,
   "metadata": {},
   "outputs": [],
   "source": [
    "sc = spark.sparkContext"
   ]
  },
  {
   "cell_type": "code",
   "execution_count": 10,
   "metadata": {},
   "outputs": [
    {
     "data": {
      "text/html": [
       "\n",
       "        <div>\n",
       "            <p><b>SparkContext</b></p>\n",
       "\n",
       "            <p><a href=\"http://RIA:4040\">Spark UI</a></p>\n",
       "\n",
       "            <dl>\n",
       "              <dt>Version</dt>\n",
       "                <dd><code>v2.3.2</code></dd>\n",
       "              <dt>Master</dt>\n",
       "                <dd><code>local[*]</code></dd>\n",
       "              <dt>AppName</dt>\n",
       "                <dd><code>Case3</code></dd>\n",
       "            </dl>\n",
       "        </div>\n",
       "        "
      ],
      "text/plain": [
       "<SparkContext master=local[*] appName=Case3>"
      ]
     },
     "execution_count": 10,
     "metadata": {},
     "output_type": "execute_result"
    }
   ],
   "source": [
    "sc"
   ]
  },
  {
   "cell_type": "code",
   "execution_count": 11,
   "metadata": {},
   "outputs": [],
   "source": [
    "df=spark.read.format('csv').option('header',True).load('file:///C:/Users/HP/Documents/subho/EmployeeDatabase.csv')"
   ]
  },
  {
   "cell_type": "code",
   "execution_count": 12,
   "metadata": {},
   "outputs": [
    {
     "name": "stdout",
     "output_type": "stream",
     "text": [
      "+-----------+-------+------------+--------------+--------------------+------------------+------------+\n",
      "|Employee_id| Skills|Joining_Date|Num_of_project|Next_Gen_eligibility|eligible_promotion|Careel_Level|\n",
      "+-----------+-------+------------+--------------+--------------------+------------------+------------+\n",
      "|   10000001|    aws|   26Jun2005|             4|                  no|                no|          L1|\n",
      "|   10000002|pyspark|   03Feb2007|             9|                  no|                no|          L4|\n",
      "+-----------+-------+------------+--------------+--------------------+------------------+------------+\n",
      "only showing top 2 rows\n",
      "\n"
     ]
    }
   ],
   "source": [
    "df.show(2)"
   ]
  },
  {
   "cell_type": "code",
   "execution_count": 13,
   "metadata": {},
   "outputs": [],
   "source": [
    "from pyspark.sql import functions as F"
   ]
  },
  {
   "cell_type": "code",
   "execution_count": null,
   "metadata": {},
   "outputs": [],
   "source": [
    "## add a column Next_Gen_eligibility if skill in 'pyspark', 'aws', 'scala'"
   ]
  },
  {
   "cell_type": "code",
   "execution_count": 14,
   "metadata": {},
   "outputs": [],
   "source": [
    "df=df.withColumn('Next_Gen_eligibility', \\\n",
    "                 F.when(F.col('Skills').isin(['pyspark', 'aws', 'scala']) ,\\\n",
    "                        F.lit('yes')).otherwise(F.lit('no')))"
   ]
  },
  {
   "cell_type": "code",
   "execution_count": 42,
   "metadata": {},
   "outputs": [
    {
     "name": "stdout",
     "output_type": "stream",
     "text": [
      "+-----------+-------+------------+--------------+--------------------+------------------+------------+\n",
      "|Employee_id| Skills|Joining_Date|Num_of_project|Next_Gen_eligibility|eligible_promotion|Careel_Level|\n",
      "+-----------+-------+------------+--------------+--------------------+------------------+------------+\n",
      "|   10000001|    aws|   26Jun2005|             4|                 yes|                no|          L1|\n",
      "|   10000002|pyspark|   03Feb2007|             9|                 yes|                no|          L4|\n",
      "+-----------+-------+------------+--------------+--------------------+------------------+------------+\n",
      "only showing top 2 rows\n",
      "\n"
     ]
    }
   ],
   "source": [
    "df.show(2)"
   ]
  },
  {
   "cell_type": "code",
   "execution_count": 15,
   "metadata": {},
   "outputs": [],
   "source": [
    "# assign base_salary based on career_level"
   ]
  },
  {
   "cell_type": "code",
   "execution_count": 43,
   "metadata": {},
   "outputs": [],
   "source": [
    "from pyspark.sql.functions import udf\n",
    "\n",
    "@udf\n",
    "def assignSal(lvl):\n",
    "    if lvl == 'L1':\n",
    "        return 9999\n",
    "    elif lvl == 'L2':\n",
    "        return 8888\n",
    "    elif lvl == 'L3':\n",
    "        return 7777\n",
    "    elif lvl == 'L4':\n",
    "        return 6666"
   ]
  },
  {
   "cell_type": "code",
   "execution_count": 44,
   "metadata": {},
   "outputs": [],
   "source": [
    "df = df.withColumn('base_salary', assignSal(F.col('Careel_Level')))"
   ]
  },
  {
   "cell_type": "code",
   "execution_count": 45,
   "metadata": {},
   "outputs": [
    {
     "name": "stdout",
     "output_type": "stream",
     "text": [
      "+-----------+-------+------------+--------------+--------------------+------------------+------------+-----------+\n",
      "|Employee_id| Skills|Joining_Date|Num_of_project|Next_Gen_eligibility|eligible_promotion|Careel_Level|base_salary|\n",
      "+-----------+-------+------------+--------------+--------------------+------------------+------------+-----------+\n",
      "|   10000001|    aws|   26Jun2005|             4|                 yes|                no|          L1|       9999|\n",
      "|   10000002|pyspark|   03Feb2007|             9|                 yes|                no|          L4|       6666|\n",
      "+-----------+-------+------------+--------------+--------------------+------------------+------------+-----------+\n",
      "only showing top 2 rows\n",
      "\n"
     ]
    }
   ],
   "source": [
    "df.show(2)"
   ]
  },
  {
   "cell_type": "code",
   "execution_count": null,
   "metadata": {},
   "outputs": [],
   "source": []
  },
  {
   "cell_type": "code",
   "execution_count": null,
   "metadata": {},
   "outputs": [],
   "source": []
  },
  {
   "cell_type": "code",
   "execution_count": 46,
   "metadata": {},
   "outputs": [
    {
     "name": "stdout",
     "output_type": "stream",
     "text": [
      "+-----------+-------+------------+--------------+--------------------+------------------+------------+-----------+\n",
      "|Employee_id| Skills|Joining_Date|Num_of_project|Next_Gen_eligibility|eligible_promotion|Careel_Level|base_salary|\n",
      "+-----------+-------+------------+--------------+--------------------+------------------+------------+-----------+\n",
      "|   10000001|    aws|   26Jun2005|             4|                 yes|                no|          L1|       9999|\n",
      "|   10000002|pyspark|   03Feb2007|             9|                 yes|                no|          L4|       6666|\n",
      "+-----------+-------+------------+--------------+--------------------+------------------+------------+-----------+\n",
      "only showing top 2 rows\n",
      "\n"
     ]
    }
   ],
   "source": [
    "df.show(2)"
   ]
  },
  {
   "cell_type": "code",
   "execution_count": 48,
   "metadata": {},
   "outputs": [],
   "source": [
    "import datetime"
   ]
  },
  {
   "cell_type": "code",
   "execution_count": 49,
   "metadata": {},
   "outputs": [],
   "source": [
    "@udf\n",
    "def calExpDays(dt):\n",
    "    dtFmt = datetime.datetime.strptime(dt, '%d%b%Y')\n",
    "    date_diff = datetime.datetime.now() - dtFmt\n",
    "    if date_diff.days > 0:\n",
    "        return date_diff.days\n",
    "    return 0"
   ]
  },
  {
   "cell_type": "code",
   "execution_count": 50,
   "metadata": {},
   "outputs": [],
   "source": [
    "df = df.withColumn('numOfDays', calExpDays('Joining_Date'))"
   ]
  },
  {
   "cell_type": "code",
   "execution_count": null,
   "metadata": {},
   "outputs": [],
   "source": []
  },
  {
   "cell_type": "code",
   "execution_count": null,
   "metadata": {},
   "outputs": [],
   "source": [
    "#actual_salary = base_salary*3.4 + numOfdays/365\n",
    "a=3.14"
   ]
  },
  {
   "cell_type": "code",
   "execution_count": 51,
   "metadata": {},
   "outputs": [],
   "source": [
    "df = df.withColumn('actual_salary', F.col('base_salary') * F.lit(3.14) +  F.col('numOfDays')/F.lit(365))"
   ]
  },
  {
   "cell_type": "code",
   "execution_count": 52,
   "metadata": {},
   "outputs": [
    {
     "name": "stdout",
     "output_type": "stream",
     "text": [
      "+-----------+-------+------------+--------------+--------------------+------------------+------------+-----------+---------+------------------+\n",
      "|Employee_id| Skills|Joining_Date|Num_of_project|Next_Gen_eligibility|eligible_promotion|Careel_Level|base_salary|numOfDays|     actual_salary|\n",
      "+-----------+-------+------------+--------------+--------------------+------------------+------------+-----------+---------+------------------+\n",
      "|   10000001|    aws|   26Jun2005|             4|                 yes|                no|          L1|       9999|     5308|31411.402465753425|\n",
      "|   10000002|pyspark|   03Feb2007|             9|                 yes|                no|          L4|       6666|     4721|20944.174246575345|\n",
      "+-----------+-------+------------+--------------+--------------------+------------------+------------+-----------+---------+------------------+\n",
      "only showing top 2 rows\n",
      "\n"
     ]
    }
   ],
   "source": [
    "df.show(2)"
   ]
  },
  {
   "cell_type": "code",
   "execution_count": 53,
   "metadata": {},
   "outputs": [
    {
     "name": "stdout",
     "output_type": "stream",
     "text": [
      "+-----------+-------+------------+--------------+--------------------+------------------+------------+-----------+---------+------------------+\n",
      "|Employee_id| Skills|Joining_Date|Num_of_project|Next_Gen_eligibility|eligible_promotion|Careel_Level|base_salary|numOfDays|     actual_salary|\n",
      "+-----------+-------+------------+--------------+--------------------+------------------+------------+-----------+---------+------------------+\n",
      "|   10000001|    aws|   26Jun2005|             4|                 yes|                no|          L1|       9999|     5308|31411.402465753425|\n",
      "|   10000002|pyspark|   03Feb2007|             9|                 yes|                no|          L4|       6666|     4721|20944.174246575345|\n",
      "+-----------+-------+------------+--------------+--------------------+------------------+------------+-----------+---------+------------------+\n",
      "only showing top 2 rows\n",
      "\n"
     ]
    }
   ],
   "source": [
    "df.filter().show(2)F.col('actual_salary')>1000"
   ]
  },
  {
   "cell_type": "code",
   "execution_count": 54,
   "metadata": {},
   "outputs": [
    {
     "name": "stdout",
     "output_type": "stream",
     "text": [
      "+-----------+-------+------------+--------------+--------------------+------------------+------------+-----------+---------+------------------+\n",
      "|Employee_id| Skills|Joining_Date|Num_of_project|Next_Gen_eligibility|eligible_promotion|Careel_Level|base_salary|numOfDays|     actual_salary|\n",
      "+-----------+-------+------------+--------------+--------------------+------------------+------------+-----------+---------+------------------+\n",
      "|   10000002|pyspark|   03Feb2007|             9|                 yes|                no|          L4|       6666|     4721|20944.174246575345|\n",
      "|   10000003| python|   28Mar2013|             6|                  no|                no|          L3|       7777|     2476|24426.563561643838|\n",
      "+-----------+-------+------------+--------------+--------------------+------------------+------------+-----------+---------+------------------+\n",
      "only showing top 2 rows\n",
      "\n"
     ]
    }
   ],
   "source": [
    "df.filter(~(F.col('actual_salary')>24499)).show(2)"
   ]
  },
  {
   "cell_type": "code",
   "execution_count": null,
   "metadata": {},
   "outputs": [],
   "source": []
  },
  {
   "cell_type": "code",
   "execution_count": 55,
   "metadata": {},
   "outputs": [],
   "source": [
    "df = df.withColumn('eligible_promotion',\\\n",
    "              F.when((F.col('numOfDays') > 1000 ) & (F.col('Next_Gen_eligibility')=='yes'), \\\n",
    "                     F.lit('yes'))\\\n",
    "                   .otherwise(  F.when(F.col('numOfDays') > 5000 , F.lit('yes'))\\\n",
    "                              .otherwise(F.lit('no'))   )  )"
   ]
  },
  {
   "cell_type": "code",
   "execution_count": 56,
   "metadata": {},
   "outputs": [
    {
     "name": "stdout",
     "output_type": "stream",
     "text": [
      "+-----------+-------+------------+--------------+--------------------+------------------+------------+-----------+---------+------------------+\n",
      "|Employee_id| Skills|Joining_Date|Num_of_project|Next_Gen_eligibility|eligible_promotion|Careel_Level|base_salary|numOfDays|     actual_salary|\n",
      "+-----------+-------+------------+--------------+--------------------+------------------+------------+-----------+---------+------------------+\n",
      "|   10000001|    aws|   26Jun2005|             4|                 yes|               yes|          L1|       9999|     5308|31411.402465753425|\n",
      "|   10000002|pyspark|   03Feb2007|             9|                 yes|               yes|          L4|       6666|     4721|20944.174246575345|\n",
      "+-----------+-------+------------+--------------+--------------------+------------------+------------+-----------+---------+------------------+\n",
      "only showing top 2 rows\n",
      "\n"
     ]
    }
   ],
   "source": [
    "df.show(2)"
   ]
  },
  {
   "cell_type": "code",
   "execution_count": 66,
   "metadata": {},
   "outputs": [],
   "source": [
    "df2 = df.groupby('Careel_Level').avg('actual_salary').toDF('Careel_Level', 'avg_actual_salary')\\\n",
    "        .orderBy(df.Careel_Level.asc())"
   ]
  },
  {
   "cell_type": "code",
   "execution_count": 67,
   "metadata": {},
   "outputs": [
    {
     "name": "stdout",
     "output_type": "stream",
     "text": [
      "+------------+------------------+\n",
      "|Careel_Level| avg_actual_salary|\n",
      "+------------+------------------+\n",
      "|          L1|31403.909970526074|\n",
      "|          L2|27915.379353907374|\n",
      "|          L3|24426.985622203323|\n",
      "|          L4|20938.097919996377|\n",
      "+------------+------------------+\n",
      "\n"
     ]
    }
   ],
   "source": [
    "df2.show()"
   ]
  },
  {
   "cell_type": "code",
   "execution_count": 71,
   "metadata": {},
   "outputs": [],
   "source": [
    "df3 = df.join(df2, df.Careel_Level == df2.Careel_Level, 'left')"
   ]
  },
  {
   "cell_type": "code",
   "execution_count": 73,
   "metadata": {},
   "outputs": [
    {
     "name": "stdout",
     "output_type": "stream",
     "text": [
      "+-----------+-------+------------+--------------+--------------------+------------------+------------+-----------+---------+------------------+------------+------------------+\n",
      "|Employee_id| Skills|Joining_Date|Num_of_project|Next_Gen_eligibility|eligible_promotion|Careel_Level|base_salary|numOfDays|     actual_salary|Careel_Level| avg_actual_salary|\n",
      "+-----------+-------+------------+--------------+--------------------+------------------+------------+-----------+---------+------------------+------------+------------------+\n",
      "|   10000001|    aws|   26Jun2005|             4|                 yes|               yes|          L1|       9999|     5308|31411.402465753425|          L1|31403.909970526074|\n",
      "|   10000002|pyspark|   03Feb2007|             9|                 yes|               yes|          L4|       6666|     4721|20944.174246575345|          L4|20938.097919996377|\n",
      "+-----------+-------+------------+--------------+--------------------+------------------+------------+-----------+---------+------------------+------------+------------------+\n",
      "only showing top 2 rows\n",
      "\n"
     ]
    }
   ],
   "source": [
    "df3.show(2)"
   ]
  },
  {
   "cell_type": "code",
   "execution_count": null,
   "metadata": {},
   "outputs": [],
   "source": []
  }
 ],
 "metadata": {
  "kernelspec": {
   "display_name": "Python 3",
   "language": "python",
   "name": "python3"
  },
  "language_info": {
   "codemirror_mode": {
    "name": "ipython",
    "version": 3
   },
   "file_extension": ".py",
   "mimetype": "text/x-python",
   "name": "python",
   "nbconvert_exporter": "python",
   "pygments_lexer": "ipython3",
   "version": "3.7.3"
  }
 },
 "nbformat": 4,
 "nbformat_minor": 2
}
