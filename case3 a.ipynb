{
 "cells": [
  {
   "cell_type": "code",
   "execution_count": 1,
   "metadata": {},
   "outputs": [],
   "source": [
    "import findspark\n",
    "findspark.init()"
   ]
  },
  {
   "cell_type": "code",
   "execution_count": 2,
   "metadata": {},
   "outputs": [],
   "source": [
    "from pyspark.sql import SparkSession"
   ]
  },
  {
   "cell_type": "code",
   "execution_count": 3,
   "metadata": {},
   "outputs": [],
   "source": [
    "spark = SparkSession.builder.appName(\"Case3\").getOrCreate()"
   ]
  },
  {
   "cell_type": "code",
   "execution_count": 4,
   "metadata": {},
   "outputs": [],
   "source": [
    "df=spark.read.format('csv').option('header',True).load('file:///C:/Users/HP/Documents/subho/EmployeeDatabase.csv')"
   ]
  },
  {
   "cell_type": "code",
   "execution_count": 5,
   "metadata": {},
   "outputs": [
    {
     "name": "stdout",
     "output_type": "stream",
     "text": [
      "+-----------+-------+------------+--------------+--------------------+------------------+------------+\n",
      "|Employee_id| Skills|Joining_Date|Num_of_project|Next_Gen_eligibility|eligible_promotion|Careel_Level|\n",
      "+-----------+-------+------------+--------------+--------------------+------------------+------------+\n",
      "|   10000001|    aws|   26Jun2005|             4|                  no|                no|          L1|\n",
      "|   10000002|pyspark|   03Feb2007|             9|                  no|                no|          L4|\n",
      "+-----------+-------+------------+--------------+--------------------+------------------+------------+\n",
      "only showing top 2 rows\n",
      "\n"
     ]
    }
   ],
   "source": [
    "df.show(2)"
   ]
  },
  {
   "cell_type": "code",
   "execution_count": 6,
   "metadata": {},
   "outputs": [
    {
     "data": {
      "text/plain": [
       "[('Employee_id', 'string'),\n",
       " ('Skills', 'string'),\n",
       " ('Joining_Date', 'string'),\n",
       " ('Num_of_project', 'string'),\n",
       " ('Next_Gen_eligibility', 'string'),\n",
       " ('eligible_promotion', 'string'),\n",
       " ('Careel_Level', 'string')]"
      ]
     },
     "execution_count": 6,
     "metadata": {},
     "output_type": "execute_result"
    }
   ],
   "source": [
    "df.dtypes"
   ]
  },
  {
   "cell_type": "code",
   "execution_count": null,
   "metadata": {},
   "outputs": [],
   "source": []
  }
 ],
 "metadata": {
  "kernelspec": {
   "display_name": "Python 3",
   "language": "python",
   "name": "python3"
  },
  "language_info": {
   "codemirror_mode": {
    "name": "ipython",
    "version": 3
   },
   "file_extension": ".py",
   "mimetype": "text/x-python",
   "name": "python",
   "nbconvert_exporter": "python",
   "pygments_lexer": "ipython3",
   "version": "3.7.3"
  }
 },
 "nbformat": 4,
 "nbformat_minor": 2
}
